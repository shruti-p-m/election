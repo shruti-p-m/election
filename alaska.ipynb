{
 "cells": [
  {
   "cell_type": "code",
   "execution_count": 5,
   "id": "6cff7446",
   "metadata": {},
   "outputs": [],
   "source": [
    "import json\n",
    "import requests\n",
    "\n",
    "# Load original county-level GeoJSON\n",
    "counties_url = \"https://raw.githubusercontent.com/plotly/datasets/master/geojson-counties-fips.json\"\n",
    "counties_geo = requests.get(counties_url).json()\n",
    "\n",
    "# Load state-level GeoJSON to extract Alaska shape\n",
    "states_url = \"https://raw.githubusercontent.com/PublicaMundi/MappingAPI/master/data/geojson/us-states.json\"\n",
    "states_geo = requests.get(states_url).json()\n",
    "\n",
    "# Extract Alaska geometry from state-level GeoJSON\n",
    "alaska_geom = next(feature for feature in states_geo['features'] if feature['properties']['name'] == 'Alaska')\n",
    "\n",
    "# Construct a new \"super-county\" feature for Alaska\n",
    "alaska_feature = {\n",
    "    \"type\": \"Feature\",\n",
    "    \"geometry\": alaska_geom['geometry'],\n",
    "    \"properties\": {\n",
    "        \"GEO_ID\": \"02000\",\n",
    "        \"NAME\": \"Alaska Super-County\",\n",
    "        \"STATE\": \"02\",\n",
    "        \"COUNTY\": \"000\"\n",
    "    },\n",
    "    \"id\": \"02000\"  # This must match your df['county_fips']\n",
    "}\n",
    "\n",
    "# Append Alaska feature to the county GeoJSON\n",
    "counties_geo['features'].append(alaska_feature)"
   ]
  },
  {
   "cell_type": "code",
   "execution_count": 6,
   "id": "1e32f0c6",
   "metadata": {},
   "outputs": [],
   "source": [
    "with open('data/smodified_counties_with_alaska.json', 'w') as f:\n",
    "    json.dump(counties_geo, f)"
   ]
  }
 ],
 "metadata": {
  "kernelspec": {
   "display_name": "dev",
   "language": "python",
   "name": "python3"
  },
  "language_info": {
   "codemirror_mode": {
    "name": "ipython",
    "version": 3
   },
   "file_extension": ".py",
   "mimetype": "text/x-python",
   "name": "python",
   "nbconvert_exporter": "python",
   "pygments_lexer": "ipython3",
   "version": "3.12.4"
  }
 },
 "nbformat": 4,
 "nbformat_minor": 5
}
